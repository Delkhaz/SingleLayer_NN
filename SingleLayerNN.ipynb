{
  "nbformat": 4,
  "nbformat_minor": 0,
  "metadata": {
    "colab": {
      "name": "OpenLab1.ipynb",
      "version": "0.3.2",
      "provenance": [],
      "collapsed_sections": []
    },
    "kernelspec": {
      "display_name": "Python 3",
      "language": "python",
      "name": "python3"
    }
  },
  "cells": [
    {
      "metadata": {
        "id": "7m-NVVEEIEgC",
        "colab_type": "text"
      },
      "cell_type": "markdown",
      "source": [
        "Delkhaz Ibrahimi\n",
        "\n",
        "CSCI 4850/5850\n",
        "\n",
        "OPEN LAB 1\n"
      ]
    },
    {
      "metadata": {
        "id": "eVFcebKoIEgE",
        "colab_type": "text"
      },
      "cell_type": "markdown",
      "source": [
        "2/15/18 11:00 PM"
      ]
    },
    {
      "metadata": {
        "id": "NNfaAnIEIEgF",
        "colab_type": "code",
        "colab": {},
        "outputId": "d102863a-a530-4418-d794-e2830239313b"
      },
      "cell_type": "code",
      "source": [
        "import os\n",
        "import pandas\n",
        "import numpy as np\n",
        "import keras\n",
        "\n",
        "iris_data = os.path.join(\"data\",\"iris-data.txt\")\n",
        "\n",
        "data = np.array(pandas.read_table(iris_data,\n",
        "                                     delim_whitespace=True,\n",
        "                                header=None))\n",
        "print(data.shape)\n"
      ],
      "execution_count": 0,
      "outputs": [
        {
          "output_type": "stream",
          "text": [
            "(150, 5)\n"
          ],
          "name": "stdout"
        }
      ]
    },
    {
      "metadata": {
        "id": "3jjLPOlkIEgM",
        "colab_type": "text"
      },
      "cell_type": "markdown",
      "source": [
        "#   Learning / Walking Through Assignment Tut\n",
        "    *   will comment out this portion of code, but this is bassically me going through the ola learning all the components"
      ]
    },
    {
      "metadata": {
        "id": "0jgDNPxYIEgN",
        "colab_type": "code",
        "colab": {}
      },
      "cell_type": "code",
      "source": [
        "########## Slice\n",
        "    #slice the first 3 examples\n",
        "\n",
        "#data[0:3,:]\n",
        "        # :operator to specify list of rows that we would like to extract from the matrix\n",
        "        #useful when exploring large data sets or forming new arrays from subset of other arrays.\n",
        "    \n",
        "    \n",
        "    \n",
        "    #for this data set each ex consit of vector of four features, and a classs label(five total).\n",
        "    #each four features value are continous and class labels are discrete.\n",
        "    #use unique() to explore the data\n",
        "\n",
        "    #looking at only last column - find its discrete set of items that it contains \n",
        "\n",
        "#np.unique(data[:,4])\n",
        "    #lets look at other columns, first minimum and next maximum \n",
        "\n",
        "#print(np.min(data[:,0:4],axis=0))\n",
        "#print(np.max(data[:,0:4],axis=0))\n",
        "\n",
        "    #unique() allows us to see discrete ranges of values in an array\n",
        "    #5th column is class label - 3 diff species of iris rep by 0,1,2\n",
        "    \n",
        "    "
      ],
      "execution_count": 0,
      "outputs": []
    },
    {
      "metadata": {
        "id": "70gcsmN4IEgQ",
        "colab_type": "code",
        "colab": {}
      },
      "cell_type": "code",
      "source": [
        ""
      ],
      "execution_count": 0,
      "outputs": []
    },
    {
      "metadata": {
        "id": "LBdzxNYOIEgT",
        "colab_type": "text"
      },
      "cell_type": "markdown",
      "source": [
        "#   Building a Single-Layer Network"
      ]
    },
    {
      "metadata": {
        "id": "8YxLXjORIEgT",
        "colab_type": "code",
        "colab": {},
        "outputId": "6f253a05-cfed-4a15-d5dc-bd6c9461fc69"
      },
      "cell_type": "code",
      "source": [
        "    #INPUT TRAINING VECTOR\n",
        "X = data[:,0:4]\n",
        "X.shape\n",
        "### NOTE::\n",
        "#   X now contains all the features of the 150 flowers \n",
        "#   we are going to try to classify using our neural net\n",
        "\n",
        "    #TRANFORM CLASS LABELS\n",
        "labels = data[:,4]\n",
        "#   first load tools then create set of target vectors, \n",
        "#   which we will be using for training classifier \n",
        "\n",
        "    #CONVERTING INT CLASS LABELS TO CATEGORICAL /\"ONE HOT\" ENCODING\n",
        "Y = keras.utils.to_categorical(labels,\n",
        "                                len(np.unique(labels)))\n",
        "    #ENCODING VECTOR size ???? \n",
        "print(Y.shape)\n",
        "    #explaintion below \n",
        "#   the integer class labels have been encoded into a 3 dimensional\n",
        "#   vector space, unique() was used to determind number\n",
        "#   of unique integer labels in the vector, and the vector itself \n",
        "#   gets passed to_categorical() to produce encoding."
      ],
      "execution_count": 0,
      "outputs": [
        {
          "output_type": "stream",
          "text": [
            "(150, 3)\n"
          ],
          "name": "stdout"
        }
      ]
    },
    {
      "metadata": {
        "id": "0cNY_Th3IEgX",
        "colab_type": "code",
        "colab": {}
      },
      "cell_type": "code",
      "source": [
        "##  ONE HOT encoding scheme illustration \n",
        "\n",
        "#print(labels[0])\n",
        "#print(Y[0,:])\n",
        "#print(labels[50])\n",
        "#print(Y[50,:])\n",
        "#print(labels[100])\n",
        "#print(Y[100,:])\n",
        "\n",
        "#one hot encoding ^\n"
      ],
      "execution_count": 0,
      "outputs": []
    },
    {
      "metadata": {
        "id": "-JBVYiNGIEgZ",
        "colab_type": "code",
        "colab": {}
      },
      "cell_type": "code",
      "source": [
        "# Building SINGLE LAYER NETWORK BEGINS HERE !! : "
      ],
      "execution_count": 0,
      "outputs": []
    },
    {
      "metadata": {
        "id": "G__rHz7cIEgc",
        "colab_type": "code",
        "colab": {},
        "outputId": "e2a2342d-1158-4e80-e02f-a7a35efee999"
      },
      "cell_type": "code",
      "source": [
        "    #setting up single layer network\n",
        "model = keras.Sequential()\n",
        "#   Sequential makes an assumption that we like to build forward neural network architecture\n",
        "#   focus now on just Dense() connected networks, where all units in previous layer will be connected to all units in the layer we are creating.\n",
        "\n",
        "    #INPUT SIZE - 4\n",
        "input_size = X.shape[1]\n",
        "\n",
        "    #OUTPUT SIZE - 3\n",
        "output_size = Y.shape[1]\n",
        "\n",
        "    #SIGMOID ACTIVATION FUNCTION\n",
        "model.add(keras.layers.Dense(output_size,\n",
        "                             activation='sigmoid',\n",
        "                             input_shape=[input_size]))\n",
        "\n",
        "    #use summary to get glimpse into what keras tools have created.\n",
        "model.summary()\n",
        "\n",
        "    #PREP MODEL FOR TRAINING                LEARNING RATE \n",
        "model.compile(loss=keras.losses.mse,\n",
        "             optimizer=keras.optimizers.SGD(lr=0.072),\n",
        "             metrics=['accuracy'])\n",
        "#   stochastic gradient descent for specifying how to update\n",
        "#   weights via experiances with training data\n",
        "\n",
        "    #examine bias and connection weights \n",
        "model.get_weights()\n"
      ],
      "execution_count": 0,
      "outputs": [
        {
          "output_type": "stream",
          "text": [
            "_________________________________________________________________\n",
            "Layer (type)                 Output Shape              Param #   \n",
            "=================================================================\n",
            "dense_4 (Dense)              (None, 3)                 15        \n",
            "=================================================================\n",
            "Total params: 15\n",
            "Trainable params: 15\n",
            "Non-trainable params: 0\n",
            "_________________________________________________________________\n"
          ],
          "name": "stdout"
        },
        {
          "output_type": "execute_result",
          "data": {
            "text/plain": [
              "[array([[-0.4885475 ,  0.75811338,  0.77747607],\n",
              "        [ 0.53868675,  0.06529254,  0.68955314],\n",
              "        [ 0.319839  ,  0.44028759,  0.05119628],\n",
              "        [ 0.08321643,  0.58882701,  0.42511618]], dtype=float32),\n",
              " array([ 0.,  0.,  0.], dtype=float32)]"
            ]
          },
          "metadata": {
            "tags": []
          },
          "execution_count": 31
        }
      ]
    },
    {
      "metadata": {
        "id": "vXsFUYg0IEgg",
        "colab_type": "code",
        "colab": {}
      },
      "cell_type": "code",
      "source": [
        ""
      ],
      "execution_count": 0,
      "outputs": []
    },
    {
      "metadata": {
        "id": "H3xhNCSgIEgj",
        "colab_type": "text"
      },
      "cell_type": "markdown",
      "source": [
        "#   Training a Single-Layer Network"
      ]
    },
    {
      "metadata": {
        "id": "WOxqrb8EIEgk",
        "colab_type": "code",
        "colab": {}
      },
      "cell_type": "code",
      "source": [
        "    #TRAINING PARAMATERS\n",
        "batch_size = 16\n",
        "epochs = 1200\n",
        "validation_split = 0.5\n",
        "\n",
        "    #training the model and record the training history for later examination \n",
        "history = model.fit(X,Y,\n",
        "                   batch_size = batch_size,\n",
        "                   epochs = epochs,\n",
        "                   verbose = 0,\n",
        "                   validation_split = validation_split)\n",
        "\n"
      ],
      "execution_count": 0,
      "outputs": []
    },
    {
      "metadata": {
        "id": "CUUEKZQOIEgn",
        "colab_type": "code",
        "colab": {}
      },
      "cell_type": "code",
      "source": [
        "#######. WANT TO MAKE NETWORK BETTER ########\n",
        "#1) Increase the number epochs used in the training process \n",
        "#2) Increase the learning rate on the stochastic gradient optimizer \n",
        "#3) Rebuild the network starting from our model = keras.Sequential() statement to initialize the weights at a\n",
        "# better starting location in the weight space. \n",
        "#3) Other things that we will explore at a later time (don't use any other tricks for this assignment)..."
      ],
      "execution_count": 0,
      "outputs": []
    },
    {
      "metadata": {
        "id": "XYGewSDTIEgq",
        "colab_type": "code",
        "colab": {},
        "outputId": "6fcb2b4f-2e65-408d-d02e-54d36f8640e0"
      },
      "cell_type": "code",
      "source": [
        "import matplotlib.pyplot as plt\n",
        "%matplotlib inline\n",
        "plt.figure(1)\n",
        "# summarize history for accuracy\n",
        "plt.subplot(211)\n",
        "plt.plot(history.history['acc'])\n",
        "plt.plot(history.history['val_acc'])\n",
        "plt.title('model accuracy')\n",
        "plt.ylabel('accuracy')\n",
        "plt.xlabel('epoch')\n",
        "plt.legend(['train', 'test'], loc='upper left')\n",
        "\n",
        "# summarize history for loss\n",
        "\n",
        "plt.subplot(212)\n",
        "plt.plot(history.history['loss'])\n",
        "plt.plot(history.history['val_loss'])\n",
        "plt.title('model loss')\n",
        "plt.ylabel('loss')\n",
        "plt.xlabel('epoch')\n",
        "plt.legend(['train', 'test'], loc='upper left')\n",
        "plt.tight_layout()\n",
        "plt.show()"
      ],
      "execution_count": 0,
      "outputs": [
        {
          "output_type": "display_data",
          "data": {
            "image/png": "[encoded data removed]",
            "text/plain": [
              "<matplotlib.figure.Figure at 0x7ff904728fd0>"
            ]
          },
          "metadata": {
            "tags": []
          }
        }
      ]
    },
    {
      "metadata": {
        "id": "S0W6qR6IIEgu",
        "colab_type": "code",
        "colab": {},
        "outputId": "b76e4de8-f9d2-4034-f8c0-3bfb21bdbe63"
      },
      "cell_type": "code",
      "source": [
        "#Test nework preformance on entire data set, now that we have trained, we can use evalute() to determine this\n",
        "score = model.evaluate(X,Y, verbose=1)\n",
        "print('Test loss:', score[0])\n",
        "print('Test accuracy:', score[1])"
      ],
      "execution_count": 0,
      "outputs": [
        {
          "output_type": "stream",
          "text": [
            "150/150 [==============================] - 0s 56us/step\n",
            "Test loss: 0.0744885169466\n",
            "Test accuracy: 0.953333330949\n"
          ],
          "name": "stdout"
        }
      ]
    },
    {
      "metadata": {
        "id": "f8AhhKRmIEgx",
        "colab_type": "code",
        "colab": {}
      },
      "cell_type": "code",
      "source": [
        ""
      ],
      "execution_count": 0,
      "outputs": []
    },
    {
      "metadata": {
        "id": "HVed1cHCIEgz",
        "colab_type": "code",
        "colab": {}
      },
      "cell_type": "code",
      "source": [
        ""
      ],
      "execution_count": 0,
      "outputs": []
    },
    {
      "metadata": {
        "id": "0rRPUixqIEg1",
        "colab_type": "text"
      },
      "cell_type": "markdown",
      "source": [
        "#   Wisconsin (Diagnostic) Breast Cancer data set"
      ]
    },
    {
      "metadata": {
        "id": "1KvpxYvzIEg2",
        "colab_type": "code",
        "colab": {},
        "outputId": "98707851-a963-4436-fabe-44ba36b56567"
      },
      "cell_type": "code",
      "source": [
        "import os\n",
        "import pandas\n",
        "import numpy as np\n",
        "import keras\n",
        "\n",
        "WDBC = os.path.join(\"data\",\"WDBC.txt\")\n",
        "\n",
        "data = np.array(pandas.read_table(WDBC,\n",
        "                                delim_whitespace=True,\n",
        "                                header=None))\n",
        "print(data.shape)\n"
      ],
      "execution_count": 0,
      "outputs": [
        {
          "output_type": "stream",
          "text": [
            "(568, 31)\n"
          ],
          "name": "stdout"
        }
      ]
    },
    {
      "metadata": {
        "id": "gohebefUIEg5",
        "colab_type": "code",
        "colab": {}
      },
      "cell_type": "code",
      "source": [
        ""
      ],
      "execution_count": 0,
      "outputs": []
    },
    {
      "metadata": {
        "id": "xoDOvdSMIEg7",
        "colab_type": "code",
        "colab": {}
      },
      "cell_type": "code",
      "source": [
        ""
      ],
      "execution_count": 0,
      "outputs": []
    },
    {
      "metadata": {
        "id": "lpHIg35QIEg-",
        "colab_type": "text"
      },
      "cell_type": "markdown",
      "source": [
        "#   Building a Single-Layer Network"
      ]
    },
    {
      "metadata": {
        "id": "ALVHDn3MIEhA",
        "colab_type": "code",
        "colab": {},
        "outputId": "2d8fe73f-4037-40ff-a864-665cacd3e416"
      },
      "cell_type": "code",
      "source": [
        "    #INPUT TRAINING VECTOR\n",
        "X = data[:,0:30]\n",
        "X.shape\n",
        "#   30 diff dimensions !!\n",
        "    #TRANSFORM CLASS LABELS \n",
        "labels = data[:,30]\n",
        "\n",
        "Y = keras.utils.to_categorical(labels,\n",
        "                                len(np.unique(labels)))\n",
        "print(Y.shape)\n",
        "\n",
        "    #BUILDING A SINGLE LAYER NETWORK\n",
        "model = keras.Sequential()\n",
        "\n",
        "input_size = X.shape[1]\n",
        "output_size = Y.shape[1]\n",
        "                                        #SIGMOID \n",
        "model.add(keras.layers.Dense(output_size,\n",
        "                             activation='sigmoid',\n",
        "                             input_shape=[input_size]))\n",
        "\n",
        "model.summary()\n",
        "                            # MSE , SGD and learning rate.\n",
        "model.compile(loss=keras.losses.mse,\n",
        "             optimizer=keras.optimizers.SGD(lr=0.07),\n",
        "             metrics=['accuracy'])\n",
        "\n",
        "model.get_weights()\n"
      ],
      "execution_count": 0,
      "outputs": [
        {
          "output_type": "stream",
          "text": [
            "(568, 2)\n",
            "_________________________________________________________________\n",
            "Layer (type)                 Output Shape              Param #   \n",
            "=================================================================\n",
            "dense_6 (Dense)              (None, 2)                 62        \n",
            "=================================================================\n",
            "Total params: 62\n",
            "Trainable params: 62\n",
            "Non-trainable params: 0\n",
            "_________________________________________________________________\n"
          ],
          "name": "stdout"
        },
        {
          "output_type": "execute_result",
          "data": {
            "text/plain": [
              "[array([[-0.28464669, -0.31180218],\n",
              "        [-0.01153234,  0.19502959],\n",
              "        [-0.19403902,  0.14228001],\n",
              "        [-0.19976687, -0.07107595],\n",
              "        [ 0.40498689, -0.24963994],\n",
              "        [ 0.33524916,  0.2765449 ],\n",
              "        [-0.04665646, -0.02679455],\n",
              "        [ 0.06512424, -0.39042732],\n",
              "        [-0.2665416 , -0.11306512],\n",
              "        [ 0.14497307, -0.07982764],\n",
              "        [ 0.18522713,  0.04048643],\n",
              "        [-0.14627138, -0.40260893],\n",
              "        [ 0.05888617, -0.09491697],\n",
              "        [-0.21580257,  0.31129178],\n",
              "        [ 0.03575957, -0.13000673],\n",
              "        [-0.41628313,  0.4258202 ],\n",
              "        [-0.28922573,  0.17918518],\n",
              "        [-0.08721539, -0.01655218],\n",
              "        [-0.28284085,  0.07168618],\n",
              "        [-0.20919181,  0.19868001],\n",
              "        [ 0.21351668, -0.32240808],\n",
              "        [ 0.13085005, -0.1288549 ],\n",
              "        [-0.42598361,  0.16136774],\n",
              "        [-0.42224628,  0.32402548],\n",
              "        [-0.05962628, -0.06792045],\n",
              "        [-0.28384846,  0.17126343],\n",
              "        [-0.10285556,  0.09531781],\n",
              "        [-0.11307573, -0.38718709],\n",
              "        [-0.40131193, -0.09735492],\n",
              "        [-0.14215165, -0.42075625]], dtype=float32),\n",
              " array([ 0.,  0.], dtype=float32)]"
            ]
          },
          "metadata": {
            "tags": []
          },
          "execution_count": 42
        }
      ]
    },
    {
      "metadata": {
        "id": "12hUb8VyIEhE",
        "colab_type": "code",
        "colab": {}
      },
      "cell_type": "code",
      "source": [
        ""
      ],
      "execution_count": 0,
      "outputs": []
    },
    {
      "metadata": {
        "id": "GnKsnfC0IEhG",
        "colab_type": "text"
      },
      "cell_type": "markdown",
      "source": [
        "#   Training a Single-Layer Network"
      ]
    },
    {
      "metadata": {
        "id": "VVNsImjVIEhI",
        "colab_type": "code",
        "colab": {}
      },
      "cell_type": "code",
      "source": [
        "    #keeping this same as before, but playing with epochs\n",
        "batch_size = 16\n",
        "epochs = 1000\n",
        "validation_split = 0.5\n",
        "\n",
        "#training the model and record the training history for later examination \n",
        "history = model.fit(X,Y,\n",
        "                   batch_size = batch_size,\n",
        "                   epochs = epochs,\n",
        "                   verbose = 0,\n",
        "                   validation_split = validation_split)"
      ],
      "execution_count": 0,
      "outputs": []
    },
    {
      "metadata": {
        "id": "0i8j032NIEhK",
        "colab_type": "code",
        "colab": {},
        "outputId": "f3c788ff-0fed-4e18-df62-f3b76fe68722"
      },
      "cell_type": "code",
      "source": [
        "import matplotlib.pyplot as plt\n",
        "%matplotlib inline\n",
        "plt.figure(1)\n",
        "# summarize history for accuracy\n",
        "plt.subplot(211)\n",
        "plt.plot(history.history['acc'])\n",
        "plt.plot(history.history['val_acc'])\n",
        "plt.title('model accuracy')\n",
        "plt.ylabel('accuracy')\n",
        "plt.xlabel('epoch')\n",
        "plt.legend(['train', 'test'], loc='upper left')\n",
        "\n",
        "# summarize history for loss\n",
        "\n",
        "plt.subplot(212)\n",
        "plt.plot(history.history['loss'])\n",
        "plt.plot(history.history['val_loss'])\n",
        "plt.title('model loss')\n",
        "plt.ylabel('loss')\n",
        "plt.xlabel('epoch')\n",
        "plt.legend(['train', 'test'], loc='upper left')\n",
        "plt.tight_layout()\n",
        "plt.show()"
      ],
      "execution_count": 0,
      "outputs": [
        {
          "output_type": "display_data",
          "data": {
            "image/png": "[encoded data removed]",
            "text/plain": [
              "<matplotlib.figure.Figure at 0x7ff90472bd30>"
            ]
          },
          "metadata": {
            "tags": []
          }
        }
      ]
    },
    {
      "metadata": {
        "id": "hZ11ZA5fIEhM",
        "colab_type": "code",
        "colab": {},
        "outputId": "b45119fc-d540-4d2d-9ee8-5b37f4be4f18"
      },
      "cell_type": "code",
      "source": [
        "#Test nework preformance on entire data set, now that we have trained, we can use evalute() to determine this\n",
        "score = model.evaluate(X,Y, verbose=1)\n",
        "print('Test loss:', score[0])\n",
        "print('Test accuracy:', score[1])"
      ],
      "execution_count": 0,
      "outputs": [
        {
          "output_type": "stream",
          "text": [
            "568/568 [==============================] - 0s 38us/step\n",
            "Test loss: 0.0498495556834\n",
            "Test accuracy: 0.948943661132\n"
          ],
          "name": "stdout"
        }
      ]
    },
    {
      "metadata": {
        "id": "_x_zuADSIEhP",
        "colab_type": "code",
        "colab": {}
      },
      "cell_type": "code",
      "source": [
        ""
      ],
      "execution_count": 0,
      "outputs": []
    },
    {
      "metadata": {
        "id": "NfHB0YTTIEhR",
        "colab_type": "code",
        "colab": {}
      },
      "cell_type": "code",
      "source": [
        ""
      ],
      "execution_count": 0,
      "outputs": []
    },
    {
      "metadata": {
        "id": "SPsqEF8TIEhT",
        "colab_type": "code",
        "colab": {}
      },
      "cell_type": "code",
      "source": [
        ""
      ],
      "execution_count": 0,
      "outputs": []
    }
  ]
}